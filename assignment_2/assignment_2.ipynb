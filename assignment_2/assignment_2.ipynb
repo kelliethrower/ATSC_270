{
 "cells": [
  {
   "cell_type": "markdown",
   "id": "bd61f82f",
   "metadata": {},
   "source": [
    "# ASSIGNMENT #2 - ATMOSPHERIC SOUNDINGS #\n",
    "Due: 04 February 2023 @ 11:59p"
   ]
  },
  {
   "cell_type": "markdown",
   "id": "816b3dd4",
   "metadata": {},
   "source": [
    "Purpose:\\\n",
    "The purpose of this assignment is to become familiar with reading in text data, storing the data in arrays, applying metpy units, and outputting the data into easily read files.\n",
    "\n",
    "Overview:\\\n",
    "In this assignment you will read in atmospheric sounding data and apply units to the data and print the data to a text file and a comma-separated value (csv) text file.\n",
    "\n",
    "\n",
    "| | UPDATE TO YOUR INFORMATION | \n",
    "| :- | :- |\n",
    "| Created By | Kellie Thrower |\n",
    "| Creation Date | 22 January 2024 |\n",
    "| Course | ATSC 270 - Computer Concepts in Meteorology |"
   ]
  },
  {
   "cell_type": "code",
   "execution_count": 30,
   "id": "eb870142",
   "metadata": {},
   "outputs": [],
   "source": [
    "### UPDATE TO YOUR INFORMATION ###\n",
    "#information allowing anyone with the code to print the author and contact information\n",
    "__author__    = \"Kellie Thrower\"\n",
    "__contact__   = \"kellie.thrower@und.edu\""
   ]
  },
  {
   "cell_type": "markdown",
   "id": "7dec3f1b",
   "metadata": {},
   "source": [
    "### IMPORT REQUIRED LIBRARIES ###"
   ]
  },
  {
   "cell_type": "code",
   "execution_count": 31,
   "id": "b4b5cb45",
   "metadata": {},
   "outputs": [],
   "source": [
    "import numpy as np\n",
    "from metpy.calc import wind_components\n",
    "from metpy.units import units\n",
    "import pandas as pd"
   ]
  },
  {
   "cell_type": "markdown",
   "id": "1df8fe8f",
   "metadata": {},
   "source": [
    "### OPEN SOUNDING FILE ###"
   ]
  },
  {
   "cell_type": "code",
   "execution_count": 32,
   "id": "2a62a4f1",
   "metadata": {},
   "outputs": [
    {
     "name": "stdout",
     "output_type": "stream",
     "text": [
      "['station,validUTC,levelcode,pressure_mb,height_m,tmpc,dwpc,drct,speed_kts,bearing,range_sm\\n', 'KBIS,2009-01-15 12:00:00,4,1000.0,355.0,M,M,M,M,M,M\\n', 'KBIS,2009-01-15 12:00:00,9,979.0,503.0,-35.7,-39.8,0.0,0,0.0,0.0\\n', 'KBIS,2009-01-15 12:00:00,5,959.0,649.0,-25.3,-28.8,M,M,M,M\\n', 'KBIS,2009-01-15 12:00:00,5,949.0,726.0,-24.1,-27.6,M,M,M,M\\n', 'KBIS,2009-01-15 12:00:00,5,936.0,826.0,-22.7,-28.7,M,M,M,M\\n', 'KBIS,2009-01-15 12:00:00,6,925.1,914.0,M,M,280.0,6,139.0,0.0\\n', 'KBIS,2009-01-15 12:00:00,4,925.0,915.0,-22.9,-28.9,285.0,6,139.0,0.0\\n', 'KBIS,2009-01-15 12:00:00,5,898.0,1131.0,-22.9,-28.9,M,M,M,M\\n', 'KBIS,2009-01-15 12:00:00,6,887.3,1219.0,M,M,320.0,10,127.0,0.0\\n', 'KBIS,2009-01-15 12:00:00,5,851.0,1526.0,-21.3,-35.3,M,M,M,M\\n', 'KBIS,2009-01-15 12:00:00,4,850.0,1536.0,-21.3,-35.3,330.0,10,135.0,0.0\\n', 'KBIS,2009-01-15 12:00:00,6,816.8,1828.0,M,M,320.0,15,139.0,0.0\\n', 'KBIS,2009-01-15 12:00:00,6,783.6,2133.0,M,M,335.0,17,141.0,0.0\\n', 'KBIS,2009-01-15 12:00:00,5,763.0,2328.0,-22.5,-40.5,M,M,M,M\\n', 'KBIS,2009-01-15 12:00:00,6,751.6,2438.0,M,M,340.0,22,145.0,1.0\\n', 'KBIS,2009-01-15 12:00:00,5,730.0,2651.0,-24.1,-41.1,M,M,M,M\\n', 'KBIS,2009-01-15 12:00:00,5,721.0,2741.0,-23.1,-41.1,M,M,M,M\\n', 'KBIS,2009-01-15 12:00:00,6,720.8,2743.0,M,M,335.0,32,149.0,1.0\\n', 'KBIS,2009-01-15 12:00:00,5,707.0,2884.0,-22.9,-41.9,M,M,M,M\\n', 'KBIS,2009-01-15 12:00:00,4,700.0,2961.0,-23.3,-43.3,335.0,36,150.0,2.0\\n', 'KBIS,2009-01-15 12:00:00,6,636.0,3657.0,M,M,335.0,50,152.0,3.0\\n', 'KBIS,2009-01-15 12:00:00,5,610.0,3960.0,-25.9,-43.9,M,M,M,M\\n', 'KBIS,2009-01-15 12:00:00,6,584.2,4267.0,M,M,335.0,62,153.0,5.0\\n', 'KBIS,2009-01-15 12:00:00,6,536.2,4876.0,M,M,335.0,67,153.0,7.0\\n', 'KBIS,2009-01-15 12:00:00,6,513.6,5181.0,M,M,335.0,69,153.0,8.0\\n', 'KBIS,2009-01-15 12:00:00,5,510.0,5231.0,-34.3,-52.3,M,M,M,M\\n', 'KBIS,2009-01-15 12:00:00,4,500.0,5370.0,-34.5,-52.5,335.0,73,153.0,9.0\\n', 'KBIS,2009-01-15 12:00:00,5,463.0,5906.0,-34.5,-52.5,M,M,M,M\\n', 'KBIS,2009-01-15 12:00:00,6,450.4,6096.0,M,M,340.0,94,154.0,13.0\\n', 'KBIS,2009-01-15 12:00:00,5,423.0,6530.0,-38.5,-53.5,M,M,M,M\\n', 'KBIS,2009-01-15 12:00:00,5,409.0,6761.0,-38.7,-53.7,M,M,M,M\\n', 'KBIS,2009-01-15 12:00:00,4,400.0,6920.0,-39.9,-54.9,340.0,112,156.0,17.0\\n', 'KBIS,2009-01-15 12:00:00,6,394.6,7010.0,M,M,340.0,112,156.0,18.0\\n', 'KBIS,2009-01-15 12:00:00,6,359.8,7620.0,M,M,340.0,118,156.0,22.0\\n', 'KBIS,2009-01-15 12:00:00,4,300.0,8820.0,-54.7,-66.7,345.0,125,158.0,30.0\\n', 'KBIS,2009-01-15 12:00:00,6,284.9,9144.0,M,M,345.0,131,158.0,32.0\\n', 'KBIS,2009-01-15 12:00:00,6,274.0,9391.0,M,M,340.0,132,158.0,34.0\\n', 'KBIS,2009-01-15 12:00:00,6,271.5,9448.0,M,M,340.0,132,158.0,34.0\\n', 'KBIS,2009-01-15 12:00:00,5,255.0,9842.0,-58.1,-69.1,M,M,M,M\\n', 'KBIS,2009-01-15 12:00:00,4,250.0,9970.0,-58.3,-69.3,340.0,117,159.0,38.0\\n', 'KBIS,2009-01-15 12:00:00,5,228.0,10548.0,-58.5,-69.5,M,M,M,M\\n', 'KBIS,2009-01-15 12:00:00,5,214.0,10946.0,-57.7,-68.7,M,M,M,M\\n', 'KBIS,2009-01-15 12:00:00,5,209.0,11095.0,-56.5,-68.5,M,M,M,M\\n', 'KBIS,2009-01-15 12:00:00,6,203.2,11277.0,M,M,335.0,98,158.0,46.0\\n', 'KBIS,2009-01-15 12:00:00,4,200.0,11380.0,-56.7,-68.7,335.0,99,158.0,46.0\\n', 'KBIS,2009-01-15 12:00:00,5,192.0,11637.0,-57.7,-69.7,M,M,M,M\\n', 'KBIS,2009-01-15 12:00:00,5,183.0,11939.0,-57.5,-69.5,M,M,M,M\\n', 'KBIS,2009-01-15 12:00:00,5,175.0,12219.0,-59.1,-70.1,M,M,M,M\\n', 'KBIS,2009-01-15 12:00:00,5,168.0,12474.0,-59.7,-70.7,M,M,M,M\\n', 'KBIS,2009-01-15 12:00:00,5,163.0,12662.0,-59.9,-70.9,M,M,M,M\\n', 'KBIS,2009-01-15 12:00:00,6,159.4,12801.0,M,M,335.0,106,158.0,54.0\\n', 'KBIS,2009-01-15 12:00:00,5,156.0,12936.0,-58.7,-69.7,M,M,M,M\\n', 'KBIS,2009-01-15 12:00:00,4,150.0,13190.0,-58.9,-69.9,340.0,101,158.0,56.0\\n', 'KBIS,2009-01-15 12:00:00,5,141.0,13577.0,-59.5,-70.5,M,M,M,M\\n', 'KBIS,2009-01-15 12:00:00,5,130.0,14084.0,-59.1,-70.1,M,M,M,M\\n', 'KBIS,2009-01-15 12:00:00,5,111.0,15064.0,-62.5,-73.5,M,M,M,M\\n', 'KBIS,2009-01-15 12:00:00,6,107.9,15240.0,M,M,330.0,93,157.0,67.0\\n', 'KBIS,2009-01-15 12:00:00,5,106.0,15348.0,-61.9,-72.9,M,M,M,M\\n', 'KBIS,2009-01-15 12:00:00,5,104.0,15465.0,-62.7,-73.7,M,M,M,M\\n', 'KBIS,2009-01-15 12:00:00,4,100.0,15710.0,-61.7,-72.7,325.0,88,157.0,70.0\\n', 'KBIS,2009-01-15 12:00:00,5,91.5,16259.0,-61.5,-72.5,M,M,M,M\\n', 'KBIS,2009-01-15 12:00:00,5,78.4,17204.0,-66.1,-76.1,M,M,M,M\\n', 'KBIS,2009-01-15 12:00:00,6,76.3,17373.0,M,M,320.0,86,155.0,78.0\\n', 'KBIS,2009-01-15 12:00:00,4,70.0,17900.0,-65.9,-75.9,315.0,97,155.0,80.0\\n', 'KBIS,2009-01-15 12:00:00,5,68.6,18022.0,-65.9,-75.9,M,M,M,M\\n', 'KBIS,2009-01-15 12:00:00,6,65.6,18288.0,M,M,315.0,102,154.0,82.0\\n', 'KBIS,2009-01-15 12:00:00,5,57.6,19071.0,-69.3,-79.3,M,M,M,M\\n', 'KBIS,2009-01-15 12:00:00,6,53.5,19507.0,M,M,325.0,113,153.0,89.0\\n', 'KBIS,2009-01-15 12:00:00,5,52.0,19680.0,-69.1,-79.1,M,M,M,M\\n', 'KBIS,2009-01-15 12:00:00,4,50.0,19920.0,-68.1,-78.1,320.0,108,153.0,92.0\\n', 'KBIS,2009-01-15 12:00:00,5,47.2,20266.0,-66.5,-76.5,M,M,M,M\\n', 'KBIS,2009-01-15 12:00:00,6,41.6,21031.0,M,M,320.0,100,152.0,98.0\\n', 'KBIS,2009-01-15 12:00:00,6,39.5,21336.0,M,M,315.0,103,151.0,100.0\\n', 'KBIS,2009-01-15 12:00:00,6,30.7,22860.0,M,M,315.0,115,150.0,108.0\\n', 'KBIS,2009-01-15 12:00:00,6,30.1,22979.0,M,M,315.0,115,150.0,109.0\\n', 'KBIS,2009-01-15 12:00:00,4,30.0,23000.0,-67.9,-77.9,315.0,115,150.0,109.0\\n', 'KBIS,2009-01-15 12:00:00,6,23.8,24384.0,M,M,315.0,98,149.0,117.0\\n', 'KBIS,2009-01-15 12:00:00,6,20.4,25298.0,M,M,310.0,110,148.0,122.0\\n', 'KBIS,2009-01-15 12:00:00,4,20.0,25420.0,-69.5,-79.5,315.0,111,148.0,123.0\\n', 'KBIS,2009-01-15 12:00:00,5,19.9,25450.0,-69.5,-79.5,M,M,M,M\\n']\n"
     ]
    }
   ],
   "source": [
    "\n",
    "#open file\n",
    "sounding_file = open(\"KBIS_2009011512.txt\",\"r\").readlines()\n",
    "print(sounding_file)\n"
   ]
  },
  {
   "cell_type": "markdown",
   "id": "133b2f64",
   "metadata": {},
   "source": [
    "### READ IN DATA INTO LISTS ###"
   ]
  },
  {
   "cell_type": "code",
   "execution_count": 33,
   "id": "65907f20",
   "metadata": {},
   "outputs": [
    {
     "name": "stdout",
     "output_type": "stream",
     "text": [
      "['M', '0.0', 'M', 'M', 'M', '0.0', '0.0', 'M', '0.0', 'M', '0.0', '0.0', '0.0', 'M', '1.0', 'M', 'M', '1.0', 'M', '2.0', '3.0', 'M', '5.0', '7.0', '8.0', 'M', '9.0', 'M', '13.0', 'M', 'M', '17.0', '18.0', '22.0', '30.0', '32.0', '34.0', '34.0', 'M', '38.0', 'M', 'M', 'M', '46.0', '46.0', 'M', 'M', 'M', 'M', 'M', '54.0', 'M', '56.0', 'M', 'M', 'M', '67.0', 'M', 'M', '70.0', 'M', 'M', '78.0', '80.0', 'M', '82.0', 'M', '89.0', 'M', '92.0', 'M', '98.0', '100.0', '108.0', '109.0', '109.0', '117.0', '122.0', '123.0', 'M']\n",
      "81\n"
     ]
    }
   ],
   "source": [
    "#append works best here, even though appending is bad\n",
    "#station,validUTC,levelcode,pressure_mb,height_m,tmpc,dwpc,drct,speed_kts,bearing,range_sm\n",
    "\n",
    "#create empty lists to hold sounding values\n",
    "station = []\n",
    "validUTC = []\n",
    "levelcode = []\n",
    "pressure_mb = []\n",
    "height_m = []\n",
    "tmpc = []\n",
    "dwpc = []\n",
    "drct = []\n",
    "speed_kts = []\n",
    "bearing = []\n",
    "range_sm = []\n",
    "\n",
    "#loop through each line in the sounding, skipping the header\n",
    "for line in sounding_file[1:]:\n",
    "    #appending to each list the variable\n",
    "    #station is the first column (split by commas)\n",
    "    station.append(line.split(\",\")[0])\n",
    "    #UTC is first column\n",
    "    validUTC.append(line.split(\",\")[1])\n",
    "    levelcode.append(line.split(\",\")[2])\n",
    "    pressure_mb.append(line.split(\",\")[3])\n",
    "    height_m.append(line.split(\",\")[4])\n",
    "    tmpc.append(line.split(\",\")[5])\n",
    "    dwpc.append(line.split(\",\")[6])\n",
    "    drct.append(line.split(\",\")[7])\n",
    "    speed_kts.append(line.split(\",\")[8])\n",
    "    bearing.append(line.split(\",\")[9])\n",
    "    #add rstrip() to get rid of \"\\n\" at the end of range_sm\n",
    "    range_sm.append(line.split(\",\")[10].strip())\n",
    "    \n",
    "print(range_sm)\n",
    "print(len(sounding_file))\n",
    "    "
   ]
  },
  {
   "cell_type": "markdown",
   "id": "be194c5e",
   "metadata": {},
   "source": [
    "### SUBSET TO MANDATORY AND SIGNIFICANT LEVELS ###\n",
    "\n",
    "#### This should remove missing data ####\n",
    "\n",
    "| Level Code | Meaning |\n",
    "| --- | :- |\n",
    "| 4 | mandatory |\n",
    "| 5 | significant |\n",
    "| 6 | wind level (PPBB) |\n",
    "| 7 | tropopause level |\n",
    "| 8 | maximum wind level |\n",
    "| 9 | surface level |"
   ]
  },
  {
   "cell_type": "code",
   "execution_count": 37,
   "id": "0095a064",
   "metadata": {},
   "outputs": [
    {
     "name": "stdout",
     "output_type": "stream",
     "text": [
      "['M', 'M', 'M', 'M', '0.0', 'M', 'M', '0.0', 'M', 'M', 'M', 'M', '2.0', 'M', 'M', '9.0', 'M', 'M', 'M', '17.0', '30.0', 'M', '38.0', 'M', 'M', 'M', '46.0', 'M', 'M', 'M', 'M', 'M', 'M', '56.0', 'M', 'M', 'M', 'M', 'M', '70.0', 'M', 'M', '80.0', 'M', 'M', 'M', '92.0', 'M', '109.0', '123.0', 'M']\n"
     ]
    }
   ],
   "source": [
    "#creating empty lists to hold values from mandatory and significant levels\n",
    "station_subset = []\n",
    "validUTC_subset = []\n",
    "levelcode_subset = []\n",
    "pressure_mb_subset = []\n",
    "height_m_subset = []\n",
    "tmpc_subset = []\n",
    "dwpc_subset = []\n",
    "drct_subset = []\n",
    "speed_kts_subset = []\n",
    "bearing_subset = []\n",
    "range_sm_subset = []\n",
    "\n",
    "#looping through each level in the sounding to check if mandatory or significant level\n",
    "#doing this by looping through the indices \n",
    "for i in range(len(levelcode)):\n",
    "    #if level code is manditory or significant\n",
    "    if levelcode[i] == '4' or levelcode[i] == '5':\n",
    "        #add the variable\n",
    "        station_subset.append(station[i])\n",
    "        levelcode_subset.append(levelcode[i])\n",
    "        pressure_mb_subset.append(pressure_mb[i])\n",
    "        height_m_subset.append(height_m[i])\n",
    "        tmpc_subset.append(tmpc[i])\n",
    "        dwpc_subset.append(dwpc[i])\n",
    "        drct_subset.append(drct[i])\n",
    "        speed_kts_subset.append(speed_kts[i])\n",
    "        bearing_subset.append(bearing[i])\n",
    "        range_sm_subset.append(range_sm[i])\n",
    "\n",
    "print(range_sm_subset)\n",
    "\n",
    "    "
   ]
  },
  {
   "cell_type": "markdown",
   "id": "0672b7d3",
   "metadata": {},
   "source": [
    "### CONVERT STRINGS ###\n",
    "Some data needs to be floating point numbers, some needs to be integers, some should stay as strings.\n",
    "\n",
    "Hint: You can leave the UTC time as a string and anything that needs NaNs will be a floating point."
   ]
  },
  {
   "cell_type": "code",
   "execution_count": 42,
   "id": "99b298a4",
   "metadata": {},
   "outputs": [
    {
     "name": "stdout",
     "output_type": "stream",
     "text": [
      "[nan, -25.3, -24.1, -22.7, -22.9, -22.9, -21.3, -21.3, -22.5, -24.1, -23.1, -22.9, -23.3, -25.9, -34.3, -34.5, -34.5, -38.5, -38.7, -39.9, -54.7, -58.1, -58.3, -58.5, -57.7, -56.5, -56.7, -57.7, -57.5, -59.1, -59.7, -59.9, -58.7, -58.9, -59.5, -59.1, -62.5, -61.9, -62.7, -61.7, -61.5, -66.1, -65.9, -65.9, -69.3, -69.1, -68.1, -66.5, -67.9, -69.5, -69.5]\n"
     ]
    }
   ],
   "source": [
    "#loop through each level\n",
    "for i in range(len(levelcode_subset)):\n",
    "    if levelcode_subset[i] == 'M':\n",
    "        levelcode_subset[i] = float('NaN')\n",
    "    else:     \n",
    "        levelcode_subset[i] = int(levelcode_subset[i])\n",
    "    if pressure_mb_subset[i] == 'M':\n",
    "        pressure_mb_subset[i] = float('NaN')\n",
    "    else:\n",
    "        pressure_mb_subset[i] = float(pressure_mb_subset[i])\n",
    "    if height_m_subset[i] == 'M':\n",
    "        height_m_subset[i] = float('NaN')\n",
    "    else:\n",
    "        height_m_subset[i] = float(height_m_subset[i])\n",
    "    if tmpc_subset[i] == \"M\":\n",
    "        tmpc_subset[i] = float('NaN')\n",
    "    else:\n",
    "        tmpc_subset[i] = float(tmpc_subset[i])\n",
    "    if dwpc_subset[i] == \"M\":  \n",
    "        dwpc_subset[i] = float('NaN')\n",
    "    else: \n",
    "        dwpc_subset[i] = float(dwpc_subset[i])\n",
    "    if drct_subset[i] == \"M\":\n",
    "        drct_subset[i] = float('Nan')\n",
    "    else:\n",
    "        drct_subset[i] = float(drct_subset[i])\n",
    "    if speed_kts_subset[i] == \"M\":\n",
    "        speed_kts_subset[i] = float('NaN')\n",
    "    else:\n",
    "        speed_kts_subset[i] = float(speed_kts_subset[i])\n",
    "    if bearing_subset[i] == \"M\":\n",
    "        bearing_subset[i] = float(\"NaN\")\n",
    "    else:\n",
    "        bearing_subset[i] = float(bearing_subset[i])\n",
    "    if range_sm_subset[i] == \"M\":\n",
    "        range_sm_subset[i] = float(\"NaN\")\n",
    "    else:\n",
    "        range_sm_subset[i] = float(range_sm_subset[i])\n",
    "    \n",
    "\n",
    "print(tmpc_subset)\n"
   ]
  },
  {
   "cell_type": "markdown",
   "id": "550558da",
   "metadata": {},
   "source": [
    "### ADD UNITS ###\n",
    "Add units using metpy.\n",
    "\n",
    "Make sure to identify which variables need units.\n",
    "\n",
    "https://unidata.github.io/MetPy/latest/tutorials/unit_tutorial.html"
   ]
  },
  {
   "cell_type": "code",
   "execution_count": 43,
   "id": "d759caa8",
   "metadata": {},
   "outputs": [],
   "source": [
    "pressure_mb_subset = pressure_mb_subset * units('millibar')\n",
    "height_m_subset = height_m_subset * units('meters')\n",
    "tmpc_subset = tmpc_subset * units('degC')\n",
    "dwpc_subset = dwpc_subset * units('degC')\n",
    "drct_subset = drct_subset * units('degrees')\n",
    "speed_kts_subset = speed_kts_subset * units ('knots')\n",
    "bearing_subset = bearing_subset * units('degrees')\n",
    "range_sm_subset = range_sm_subset * units('miles')"
   ]
  },
  {
   "cell_type": "markdown",
   "id": "2de14125",
   "metadata": {},
   "source": [
    "### CONVERT WINDS TO U,V COMPONENTS ###\n",
    "For this, we will be using the metpy.calc.wind_components() function.  This has been imported as wind_components(). \n",
    "\n",
    "https://unidata.github.io/MetPy/latest/api/generated/metpy.calc.wind_components.html\n",
    "\n",
    "Please see the website above to understand how this function works."
   ]
  },
  {
   "cell_type": "code",
   "execution_count": null,
   "id": "f439cc83",
   "metadata": {},
   "outputs": [],
   "source": []
  },
  {
   "cell_type": "markdown",
   "id": "1a8467cf",
   "metadata": {},
   "source": [
    "### CONVERT U,V WINDS TO M/S ###"
   ]
  },
  {
   "cell_type": "code",
   "execution_count": null,
   "id": "9ba4b1b9",
   "metadata": {},
   "outputs": [],
   "source": []
  },
  {
   "cell_type": "markdown",
   "id": "b93037f8",
   "metadata": {},
   "source": [
    "### PRINT DATA ###\n",
    "Print the sounding location and the time of the sounding.\n",
    "\n",
    "Then for each 4 or 5 level-code level, print the pressure (in mb), height (in meters), temperature (in degrees Celsius), dewpoint temperature (in degrees Celsius), u and v wind components (in m/s) with commas separating each value.  Make sure to include units."
   ]
  },
  {
   "cell_type": "code",
   "execution_count": null,
   "id": "5d171fd1",
   "metadata": {},
   "outputs": [],
   "source": []
  },
  {
   "cell_type": "markdown",
   "id": "4217c837",
   "metadata": {},
   "source": [
    "### SAVE TO CSV FILE ###\n",
    "Save to CSV without units.  The CSV file should be named KBIS_sounding.csv. Include the following header:\n",
    "\n",
    "{STATION} - {VALID UTC}<br>\n",
    "pressure[mb],height[m],temperature[degC],dewpoint[degC],u-wind[m/s],v-wind[m/s]\n",
    "\n",
    "Make sure that the winds are limited to 2 decimal places."
   ]
  },
  {
   "cell_type": "code",
   "execution_count": null,
   "id": "0a123e09",
   "metadata": {},
   "outputs": [],
   "source": []
  },
  {
   "cell_type": "markdown",
   "id": "cccc9432",
   "metadata": {},
   "source": [
    "### OPEN THE CSV FILE IN NUMPY ###\n",
    "\n",
    "Here, we are going to use the numpy genfromtxt() function - np.genfromtxt()\n",
    "\n",
    "https://numpy.org/doc/stable/reference/generated/numpy.genfromtxt.html\n",
    "\n",
    "use the names press,height,temp,dwpt,u,v"
   ]
  },
  {
   "cell_type": "code",
   "execution_count": null,
   "id": "0db560cc",
   "metadata": {},
   "outputs": [],
   "source": []
  },
  {
   "cell_type": "markdown",
   "id": "717119e8",
   "metadata": {},
   "source": [
    "### RUN THE CELL BELOW ###\n",
    "If the code above was correct, it should print out the pressure as an array, then temperature as an array, and finally, u-wind component as an array - all with units.\n",
    "\n",
    "Note that the units are now outside the array instead of applied to each element as they were in the list."
   ]
  },
  {
   "cell_type": "code",
   "execution_count": null,
   "id": "2d50731a",
   "metadata": {},
   "outputs": [],
   "source": []
  },
  {
   "cell_type": "markdown",
   "id": "c73a0ad7",
   "metadata": {},
   "source": [
    "### OPEN THE CSV FILE IN PANDAS ###\n",
    "Now we are going to open the CSV file into a pandas dataframe.\n",
    "\n",
    "Dataframes are somewhat like arrays but a bit more complicated.\n",
    "\n",
    "Here, we will use the pandas.read_csv() function - pd.read_csv()\n",
    "\n",
    "Use the same names as above.\n",
    "\n",
    "https://pandas.pydata.org/docs/reference/api/pandas.read_csv.html"
   ]
  },
  {
   "cell_type": "code",
   "execution_count": null,
   "id": "3299a386",
   "metadata": {},
   "outputs": [],
   "source": []
  },
  {
   "cell_type": "markdown",
   "id": "6eeb0151",
   "metadata": {},
   "source": [
    "### NOW PRINT THE DATAFRAME ###\n",
    "If done correctly, you should see the column names auto-populated."
   ]
  },
  {
   "cell_type": "code",
   "execution_count": null,
   "id": "f053bec3",
   "metadata": {},
   "outputs": [],
   "source": []
  }
 ],
 "metadata": {
  "kernelspec": {
   "display_name": "Python 3 (ipykernel)",
   "language": "python",
   "name": "python3"
  },
  "language_info": {
   "codemirror_mode": {
    "name": "ipython",
    "version": 3
   },
   "file_extension": ".py",
   "mimetype": "text/x-python",
   "name": "python",
   "nbconvert_exporter": "python",
   "pygments_lexer": "ipython3",
   "version": "3.11.7"
  }
 },
 "nbformat": 4,
 "nbformat_minor": 5
}
