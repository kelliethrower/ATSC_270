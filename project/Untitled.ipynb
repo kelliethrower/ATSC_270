{
 "cells": [
  {
   "cell_type": "code",
   "execution_count": 58,
   "id": "3c2f2026-28f6-4f9a-bf36-6ac004171edd",
   "metadata": {},
   "outputs": [],
   "source": [
    "from netCDF4 import Dataset\n",
    "import numpy as np\n",
    "from metpy.plots import wx_code_to_numeric\n",
    "import pandas as pd\n",
    "from metpy.units import units\n",
    "import metpy.calc as mpcalc"
   ]
  },
  {
   "cell_type": "code",
   "execution_count": 59,
   "id": "6d42aa03-51f3-45c4-b31b-a371c7c40750",
   "metadata": {},
   "outputs": [],
   "source": [
    "data = Dataset('./20221216_1200')"
   ]
  },
  {
   "cell_type": "code",
   "execution_count": 60,
   "id": "950996e5-c3c3-4f32-9aed-77a092d2302e",
   "metadata": {},
   "outputs": [],
   "source": [
    "stationName = data.variables['stationName'][:]\n",
    "latitude = data.variables['latitude'][:]\n",
    "longitude = data.variables['longitude'][:]\n",
    "temp = data.variables['temperature'][:]\n",
    "dwpt = data.variables['dewpoint'][:]\n",
    "wspd = data.variables['windSpeed'][:]\n",
    "wdir = data.variables['windDir'][:]\n",
    "gust = data.variables['windGust'][:]\n",
    "weather =  data.variables['presWeather'][:]\n",
    "vis = data.variables['visibility'][:]\n",
    "pslp = data.variables['seaLevelPress'][:]/100\n",
    "skycover = data.variables['skyCover'][:]"
   ]
  },
  {
   "cell_type": "code",
   "execution_count": 61,
   "id": "ec8c8533-450f-4c94-972e-4673e170257c",
   "metadata": {},
   "outputs": [
    {
     "name": "stdout",
     "output_type": "stream",
     "text": [
      "[2 6 4 ... 8 8 8]\n"
     ]
    }
   ],
   "source": [
    "stnNames = ['']*len(stationName)\n",
    "for index in range(len(stationName)):\n",
    "    stn = stationName[index].tobytes().decode().rstrip('\\x00')\n",
    "    stnNames[index] = stn\n",
    "#print(stnNames)\n",
    "\n",
    "curWx = ['']*len(weather)\n",
    "for index in range(len(weather)):\n",
    "    wx = weather[index].tobytes().decode().rstrip('\\x00')\n",
    "    curWx[index] = wx\n",
    "\n",
    "wxCodes = wx_code_to_numeric(curWx)\n",
    "#for i in range(len(wxCodes)):\n",
    "#    print(curWx[i],wxCodes[i])\n",
    "\n",
    "sky_cover_num = np.empty(len(skycover),dtype=int)\n",
    "for i in range(len(skycover)):\n",
    "    this_skycvr = skycover[i].tobytes().decode().rstrip('\\x00')\n",
    "    \n",
    "    if this_skycvr[-3:] == 'SKC' or this_skycvr[-3:] == 'CLR':\n",
    "        sky_cover_num[i] = 0\n",
    "    elif this_skycvr[-3:] == 'FEW':\n",
    "        sky_cover_num[i] = 2\n",
    "    elif this_skycvr[-3:] == 'SCT':\n",
    "        sky_cover_num[i] = 4\n",
    "    elif this_skycvr[-3:] == 'BKN':\n",
    "        sky_cover_num[i] = 6\n",
    "    elif this_skycvr[-3:] == 'OVC':\n",
    "        sky_cover_num[i] = 8\n",
    "    else:\n",
    "        sky_cover_num[i] = 10\n",
    "\n",
    "\n",
    "print(sky_cover_num)"
   ]
  },
  {
   "cell_type": "code",
   "execution_count": 62,
   "id": "c77d996a-6987-4885-b67c-5b0d01d1ea82",
   "metadata": {},
   "outputs": [
    {
     "name": "stderr",
     "output_type": "stream",
     "text": [
      "/tmp/ipykernel_2296957/2280564242.py:3: UserWarning: Input over 12.566370614359172 radians. Ensure proper units are given.\n",
      "  u, v = mpcalc.wind_components(wspd,wdir)\n"
     ]
    }
   ],
   "source": [
    "wdir = np.array(wdir)*units('degrees')\n",
    "wspd = np.array(wspd)*units('m/s')\n",
    "u, v = mpcalc.wind_components(wspd,wdir)"
   ]
  },
  {
   "cell_type": "code",
   "execution_count": 63,
   "id": "d85d897a-3465-431f-9def-baadbc89042b",
   "metadata": {},
   "outputs": [],
   "source": [
    "dataForDataFrame = {'station_id':stnNames,\n",
    "                    'latitude':latitude,\n",
    "                    'longitude':longitude,\n",
    "                    'wind_direction':wdir,\n",
    "                    'wind_speed':wspd,\n",
    "                    'wind_gust':gust,\n",
    "                    'visibility':vis,\n",
    "                    'current_wx1_symbol':wxCodes,\n",
    "                    'air_temperature':temp,\n",
    "                    'dew_point_temperature':dwpt,\n",
    "                    'air_pressure_at_sea_level':pslp,\n",
    "                    'eastward_wind':u,\n",
    "                    'northward_wind':v,}\n",
    "#colNames = ['station_id', 'latitude', 'longitude', 'wind_direction', 'wind_speed', 'wind_gust' 'visibility', 'current_wx1_symbol', 'air_temperature', 'dew_point_temperature', 'air_pressure_at_sea_level']\n",
    "df = pd.DataFrame(dataForDataFrame,index=stnNames)"
   ]
  },
  {
   "cell_type": "code",
   "execution_count": null,
   "id": "8ef5e064-0778-4983-b4eb-09f707be37c7",
   "metadata": {},
   "outputs": [],
   "source": []
  },
  {
   "cell_type": "code",
   "execution_count": null,
   "id": "61f75e9a-1cb6-4308-916e-34cfd0cbb5aa",
   "metadata": {},
   "outputs": [],
   "source": []
  }
 ],
 "metadata": {
  "kernelspec": {
   "display_name": "Python 3 (ipykernel)",
   "language": "python",
   "name": "python3"
  },
  "language_info": {
   "codemirror_mode": {
    "name": "ipython",
    "version": 3
   },
   "file_extension": ".py",
   "mimetype": "text/x-python",
   "name": "python",
   "nbconvert_exporter": "python",
   "pygments_lexer": "ipython3",
   "version": "3.11.7"
  }
 },
 "nbformat": 4,
 "nbformat_minor": 5
}
